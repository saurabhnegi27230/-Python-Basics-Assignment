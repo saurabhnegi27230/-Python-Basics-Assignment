{
  "nbformat": 4,
  "nbformat_minor": 0,
  "metadata": {
    "colab": {
      "provenance": []
    },
    "kernelspec": {
      "name": "python3",
      "display_name": "Python 3"
    },
    "language_info": {
      "name": "python"
    }
  },
  "cells": [
    {
      "cell_type": "markdown",
      "source": [
        "**Python Basics Questions**\n",
        "\n",
        "1. What is Python, and why is it popular?\n",
        "\n",
        "Answer:\n",
        "Python is a programming language used to build apps, websites, games, etc. It's popular because it is very easy to read, write, and understand — just like English. It also has many ready-made tools (called libraries) that save time.\n",
        "\n",
        "2. What is an interpreter in Python?\n",
        "\n",
        "Answer:\n",
        "An interpreter is like a translator that reads and runs your Python code line by line. It helps your computer understand what you wrote.\n",
        "\n",
        "3. What are pre-defined keywords in Python?\n",
        "\n",
        "Answer:\n",
        "Keywords are special words that Python already understands and uses to do certain jobs, like if, for, True, etc. You can't change their meaning.\n",
        "\n",
        "4. Can keywords be used as variable names?\n",
        "\n",
        "Answer:\n",
        "No, we cannot use keywords as variable names because Python has already reserved them for its own use.\n",
        "\n",
        "5. What is mutability in Python?\n",
        "\n",
        "Answer:\n",
        "Mutability means whether we can change something or not after it is created. If we can change it, it is mutable. If we can't, it is immutable.\n",
        "\n",
        "6. Why are lists mutable, but tuples are immutable?\n",
        "\n",
        "Answer:\n",
        "Lists are made to be changed (like adding or removing items), so they are mutable. Tuples are made to stay the same forever, so they are immutable.\n",
        "\n",
        "7. What is the difference between “==” and “is” operators in Python?\n",
        "\n",
        "Answer:\n",
        "== checks if values are the same, while is checks if both things are the exact same object in memory.\n",
        "Example: a == b means both have same value. a is b means both are the same box in memory.\n",
        "\n",
        "8. What are logical operators in Python?\n",
        "\n",
        "Answer:\n",
        "Logical operators are used to check conditions:\n",
        "\n",
        "and (both must be true)\n",
        "\n",
        "or (any one true is enough)\n",
        "\n",
        "not (reverses true/false)\n",
        "\n",
        "9. What is type casting in Python?\n",
        "\n",
        "Answer:\n",
        "Type casting means converting one data type to another, like changing a number into a string or vice versa.\n",
        "\n",
        "10. What is the difference between implicit and explicit type casting?\n",
        "\n",
        "Answer:\n",
        "\n",
        "Implicit: Python does it automatically (e.g., int + float becomes float).\n",
        "\n",
        "Explicit: You do it yourself using functions like int(), float(), str().\n",
        "\n",
        "11. What is the purpose of conditional statements in Python?\n",
        "\n",
        "Answer:\n",
        "Conditional statements help us make decisions in the program, like “if this is true, do this, otherwise do that.”\n",
        "\n",
        "12. How does the elif statement work?\n",
        "\n",
        "Answer:\n",
        "elif means “else if”. It checks another condition if the first if was false. It gives us more than 2 choices.\n",
        "\n",
        "13. What is the difference between for and while loops?\n",
        "\n",
        "Answer:\n",
        "\n",
        "for loop is used when we know how many times we want to repeat.\n",
        "\n",
        "while loop is used when we don’t know how many times, but we want to repeat until a condition is false.\n",
        "\n",
        "14. Describe a scenario where a while loop is more suitable than a for loop.\n",
        "\n",
        "Answer:\n",
        "If we ask a user to enter a password and keep asking until it's correct, we don’t know how many tries they’ll take — so we use a while loop."
      ],
      "metadata": {
        "id": "5SxgtfoNJON7"
      }
    },
    {
      "cell_type": "markdown",
      "source": [
        "**Practical Questions**"
      ],
      "metadata": {
        "id": "ngvDO_MnLjZ4"
      }
    },
    {
      "cell_type": "code",
      "source": [
        "#1. Write a Python program to print \"Hello, World!\"\n",
        "print(\"Hello, World!\")"
      ],
      "metadata": {
        "colab": {
          "base_uri": "https://localhost:8080/"
        },
        "id": "qSbsAOPfKjqD",
        "outputId": "6efaf04c-1952-4836-dd1f-e8de21535797"
      },
      "execution_count": null,
      "outputs": [
        {
          "output_type": "stream",
          "name": "stdout",
          "text": [
            "Hello, World!\n"
          ]
        }
      ]
    },
    {
      "cell_type": "code",
      "source": [
        "#2. Write a Python program that displays your name and age\n",
        "\n",
        "name = \"SAURABH\"\n",
        "age = 26\n",
        "print(\"My name is\", name)\n",
        "print(\"My age is\", age)"
      ],
      "metadata": {
        "colab": {
          "base_uri": "https://localhost:8080/"
        },
        "id": "kObdLCXvMDsf",
        "outputId": "022b3f1e-0d88-4b4a-84b8-52b56ccfdaf3"
      },
      "execution_count": null,
      "outputs": [
        {
          "output_type": "stream",
          "name": "stdout",
          "text": [
            "My name is SAURABH\n",
            "My age is 26\n"
          ]
        }
      ]
    },
    {
      "cell_type": "code",
      "source": [
        "#3. Write code to print all the pre-defined keywords in Python using the keyword library\n",
        "\n",
        "import keyword\n",
        "print(keyword.kwlist)"
      ],
      "metadata": {
        "colab": {
          "base_uri": "https://localhost:8080/"
        },
        "id": "kP81IKkAMhX8",
        "outputId": "b61bc73c-11fc-4a84-aa57-00df8bde7cbb"
      },
      "execution_count": null,
      "outputs": [
        {
          "output_type": "stream",
          "name": "stdout",
          "text": [
            "['False', 'None', 'True', 'and', 'as', 'assert', 'async', 'await', 'break', 'class', 'continue', 'def', 'del', 'elif', 'else', 'except', 'finally', 'for', 'from', 'global', 'if', 'import', 'in', 'is', 'lambda', 'nonlocal', 'not', 'or', 'pass', 'raise', 'return', 'try', 'while', 'with', 'yield']\n"
          ]
        }
      ]
    },
    {
      "cell_type": "code",
      "source": [
        "#4. Write a program that checks if a given word is a Python keyword.\n",
        "\n",
        "import keyword\n",
        "\n",
        "word = input(\"Enter a word: \")\n",
        "if keyword.iskeyword(word):\n",
        "    print(word, \"is a Python keyword.\")\n",
        "else:\n",
        "    print(word, \"is NOT a Python keyword.\")"
      ],
      "metadata": {
        "colab": {
          "base_uri": "https://localhost:8080/"
        },
        "id": "XO2gL85NMwcV",
        "outputId": "cd93070d-3902-445d-cdac-54831b5ea31a"
      },
      "execution_count": null,
      "outputs": [
        {
          "output_type": "stream",
          "name": "stdout",
          "text": [
            "Enter a word: True\n",
            "True is a Python keyword.\n"
          ]
        }
      ]
    },
    {
      "cell_type": "code",
      "source": [
        "#5. Write a function to demonstrate the behavior of mutable and immutable arguments.\n",
        "\n",
        "def change_values(num, my_list):\n",
        "    num += 1\n",
        "    my_list.append(100)\n",
        "    print(\"Inside function - num:\", num)\n",
        "    print(\"Inside function - list:\", my_list)\n",
        "\n",
        "x = 10\n",
        "my_list = [1, 2, 3]\n",
        "change_values(x, my_list)\n",
        "\n",
        "print(\"Outside function - x:\", x)        # Immutable (unchanged)\n",
        "print(\"Outside function - my_list:\", my_list)  # Mutable (changed)"
      ],
      "metadata": {
        "colab": {
          "base_uri": "https://localhost:8080/"
        },
        "id": "MkRS8J0FOTas",
        "outputId": "73c69877-a583-4197-d16d-dad31b9d9e42"
      },
      "execution_count": null,
      "outputs": [
        {
          "output_type": "stream",
          "name": "stdout",
          "text": [
            "Inside function - num: 11\n",
            "Inside function - list: [1, 2, 3, 100]\n",
            "Outside function - x: 10\n",
            "Outside function - my_list: [1, 2, 3, 100]\n"
          ]
        }
      ]
    },
    {
      "cell_type": "code",
      "source": [
        "#6. Write a program that performs basic arithmetic operations on two user-input numbers.\n",
        "\n",
        "a = float(input(\"Enter first number: \"))\n",
        "b = float(input(\"Enter second number: \"))\n",
        "\n",
        "print(\"Sum:\", a + b)\n",
        "print(\"Difference:\", a - b)\n",
        "print(\"Product:\", a * b)\n",
        "print(\"Division:\", a / b)"
      ],
      "metadata": {
        "colab": {
          "base_uri": "https://localhost:8080/"
        },
        "id": "jAWow3l4PR7U",
        "outputId": "fb2a0341-0761-4b49-f851-ddfcc190d631"
      },
      "execution_count": null,
      "outputs": [
        {
          "output_type": "stream",
          "name": "stdout",
          "text": [
            "Enter first number: 4\n",
            "Enter second number: 2\n",
            "Sum: 6.0\n",
            "Difference: 2.0\n",
            "Product: 8.0\n",
            "Division: 2.0\n"
          ]
        }
      ]
    },
    {
      "cell_type": "code",
      "source": [
        "#7. Write a program to demonstrate the use of logical operators.\n",
        "\n",
        "a = int(input(\"Enter a number: \"))\n",
        "b = int(input(\"Enter another number: \"))\n",
        "\n",
        "if a > 0 and b > 0:\n",
        "    print(\"Both numbers are positive.\")\n",
        "if a > 0 or b > 0:\n",
        "    print(\"At least one number is positive.\")\n",
        "if not (a < 0):\n",
        "    print(\"a is not negative.\")"
      ],
      "metadata": {
        "id": "z2CnJ7z9P4P6"
      },
      "execution_count": null,
      "outputs": []
    },
    {
      "cell_type": "code",
      "source": [
        "#8. Create a list and tuple in Python, and demonstrate how attempting to change an element works differently for each.\n",
        "\n",
        "my_list = [1, 2, 3]\n",
        "my_tuple = (1, 2, 3)\n",
        "\n",
        "my_list[0] = 10  # Works fine\n",
        "print(\"Changed list:\", my_list)\n",
        "\n",
        "# my_tuple[0] = 10  # This will cause error: tuples are immutable\n",
        "print(\"Tuple cannot be changed:\", my_tuple)"
      ],
      "metadata": {
        "colab": {
          "base_uri": "https://localhost:8080/"
        },
        "id": "EsQZBTlKyfzJ",
        "outputId": "c734bd8d-5e63-4abf-f614-df0c5c157d65"
      },
      "execution_count": 1,
      "outputs": [
        {
          "output_type": "stream",
          "name": "stdout",
          "text": [
            "Changed list: [10, 2, 3]\n",
            "Tuple cannot be changed: (1, 2, 3)\n"
          ]
        }
      ]
    },
    {
      "cell_type": "code",
      "source": [
        "#9. Write a Python program to convert user input from string to integer, float, and boolean types.\n",
        "\n",
        "user_input = input(\"Enter something: \")\n",
        "\n",
        "int_value = int(user_input)\n",
        "float_value = float(user_input)\n",
        "bool_value = bool(user_input)\n",
        "\n",
        "print(\"As Integer:\", int_value)\n",
        "print(\"As Float:\", float_value)\n",
        "print(\"As Boolean:\", bool_value)"
      ],
      "metadata": {
        "colab": {
          "base_uri": "https://localhost:8080/"
        },
        "id": "te3olKddzIxQ",
        "outputId": "8a4d5257-940c-4bb9-d6c6-3e93007f41d5"
      },
      "execution_count": 2,
      "outputs": [
        {
          "output_type": "stream",
          "name": "stdout",
          "text": [
            "Enter something: 2\n",
            "As Integer: 2\n",
            "As Float: 2.0\n",
            "As Boolean: True\n"
          ]
        }
      ]
    },
    {
      "cell_type": "code",
      "source": [
        "#10. Write code to demonstrate type casting with list elements.\n",
        "\n",
        "str_list = [\"1\", \"2\", \"3\", \"4\"]\n",
        "int_list = [int(item) for item in str_list]\n",
        "print(\"Original strings:\", str_list)\n",
        "print(\"Converted to integers:\", int_list)\n"
      ],
      "metadata": {
        "colab": {
          "base_uri": "https://localhost:8080/"
        },
        "id": "XaAEp5jlzTTV",
        "outputId": "08b6dd4c-355f-4044-f7c5-a16969efaf51"
      },
      "execution_count": 3,
      "outputs": [
        {
          "output_type": "stream",
          "name": "stdout",
          "text": [
            "Original strings: ['1', '2', '3', '4']\n",
            "Converted to integers: [1, 2, 3, 4]\n"
          ]
        }
      ]
    },
    {
      "cell_type": "code",
      "source": [
        "#11. Write a program that checks if a number is positive, negative, or zero.\n",
        "\n",
        "num = float(input(\"Enter a number: \"))\n",
        "\n",
        "if num > 0:\n",
        "    print(\"Positive number\")\n",
        "elif num < 0:\n",
        "    print(\"Negative number\")\n",
        "else:\n",
        "    print(\"Zero\")"
      ],
      "metadata": {
        "colab": {
          "base_uri": "https://localhost:8080/"
        },
        "id": "vaMeiiS7zdd1",
        "outputId": "a0c74e45-6802-43d6-db42-7c14051b94b8"
      },
      "execution_count": 4,
      "outputs": [
        {
          "output_type": "stream",
          "name": "stdout",
          "text": [
            "Enter a number: 4\n",
            "Positive number\n"
          ]
        }
      ]
    },
    {
      "cell_type": "code",
      "source": [
        "#12. Write a for loop to print numbers from 1 to 10.\n",
        "\n",
        "for i in range(1, 11):\n",
        "    print(i)"
      ],
      "metadata": {
        "colab": {
          "base_uri": "https://localhost:8080/"
        },
        "id": "TBu6g4Rw0S3k",
        "outputId": "3e43f9fb-a480-4577-abb7-43b28576ce95"
      },
      "execution_count": 5,
      "outputs": [
        {
          "output_type": "stream",
          "name": "stdout",
          "text": [
            "1\n",
            "2\n",
            "3\n",
            "4\n",
            "5\n",
            "6\n",
            "7\n",
            "8\n",
            "9\n",
            "10\n"
          ]
        }
      ]
    },
    {
      "cell_type": "code",
      "source": [
        "#13. Write a Python program to find the sum of all even numbers between 1 and 50.\n",
        "\n",
        "total = 0\n",
        "for i in range(1, 51):\n",
        "    if i % 2 == 0:\n",
        "        total += i\n",
        "print(\"Sum of even numbers from 1 to 50:\", total)"
      ],
      "metadata": {
        "colab": {
          "base_uri": "https://localhost:8080/"
        },
        "id": "4aNuZutJ0b-E",
        "outputId": "dbd60848-627c-4ae3-ad80-6bcb48cb40bc"
      },
      "execution_count": 6,
      "outputs": [
        {
          "output_type": "stream",
          "name": "stdout",
          "text": [
            "Sum of even numbers from 1 to 50: 650\n"
          ]
        }
      ]
    },
    {
      "cell_type": "code",
      "source": [
        "#14. Write a program to reverse a string using a while loop.\n",
        "\n",
        "text = input(\"Enter a string: \")\n",
        "reversed_text = \"\"\n",
        "i = len(text) - 1\n",
        "\n",
        "while i >= 0:\n",
        "    reversed_text += text[i]\n",
        "    i -= 1\n",
        "\n",
        "print(\"Reversed string:\", reversed_text)"
      ],
      "metadata": {
        "colab": {
          "base_uri": "https://localhost:8080/"
        },
        "id": "_AwM001P0mKL",
        "outputId": "c0a062c8-fe0c-4d13-c1bd-fa1c90c35206"
      },
      "execution_count": 7,
      "outputs": [
        {
          "output_type": "stream",
          "name": "stdout",
          "text": [
            "Enter a string: saurabh\n",
            "Reversed string: hbaruas\n"
          ]
        }
      ]
    },
    {
      "cell_type": "code",
      "source": [
        "#15. Write a Python program to calculate the factorial of a number provided by the user using a while loop.\n",
        "\n",
        "num = int(input(\"Enter a number: \"))\n",
        "fact = 1\n",
        "i = 1\n",
        "\n",
        "while i <= num:\n",
        "    fact *= i\n",
        "    i += 1\n",
        "\n",
        "print(\"Factorial of\", num, \"is\", fact)\n"
      ],
      "metadata": {
        "colab": {
          "base_uri": "https://localhost:8080/"
        },
        "id": "gfgCXoyz0y5r",
        "outputId": "e71093ff-eb60-453d-8e27-e7843d789255"
      },
      "execution_count": 8,
      "outputs": [
        {
          "output_type": "stream",
          "name": "stdout",
          "text": [
            "Enter a number: 2\n",
            "Factorial of 2 is 2\n"
          ]
        }
      ]
    }
  ]
}